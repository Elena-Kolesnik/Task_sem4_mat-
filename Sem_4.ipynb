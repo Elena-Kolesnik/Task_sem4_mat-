{
  "nbformat": 4,
  "nbformat_minor": 0,
  "metadata": {
    "colab": {
      "provenance": []
    },
    "kernelspec": {
      "name": "python3",
      "display_name": "Python 3"
    },
    "language_info": {
      "name": "python"
    }
  },
  "cells": [
    {
      "cell_type": "markdown",
      "source": [
        "**Задача 1.** Случайная непрерывная величина A имеет равномерное распределение на промежутке (200, 800]. Найдите ее среднее значение и дисперсию."
      ],
      "metadata": {
        "id": "mZw-tGEoPd9g"
      }
    },
    {
      "cell_type": "code",
      "source": [
        "MX = (200 + 800) / 2\n",
        "DX = (800 - 200) ** 2 / 12\n",
        "MX,DX"
      ],
      "metadata": {
        "colab": {
          "base_uri": "https://localhost:8080/"
        },
        "id": "0XIhZNFBQ3AU",
        "outputId": "55521166-6748-4db8-dd8e-d7bd4175b80b"
      },
      "execution_count": 1,
      "outputs": [
        {
          "output_type": "execute_result",
          "data": {
            "text/plain": [
              "(500.0, 30000.0)"
            ]
          },
          "metadata": {},
          "execution_count": 1
        }
      ]
    },
    {
      "cell_type": "markdown",
      "source": [
        "**Задача 2.** О случайной непрерывной равномерно распределенной величине B известно, что ее дисперсия равна 0.2. Можно ли найти правую границу величины B и ее среднее значение зная, что левая граница равна 0.5? Если да, найдите ее."
      ],
      "metadata": {
        "id": "DO_XjVeRSKAO"
      }
    },
    {
      "cell_type": "code",
      "source": [
        "from math import sqrt\n",
        "\n",
        "a = 0.5 \n",
        "b = a + sqrt(12 * 0.2)\n",
        "\n",
        "MX = (a + b) / 2\n",
        "\n",
        "b,MX"
      ],
      "metadata": {
        "colab": {
          "base_uri": "https://localhost:8080/"
        },
        "id": "cDc0tuH3SQwH",
        "outputId": "3f8db9b1-3183-4829-93b9-49aa73f2e884"
      },
      "execution_count": 4,
      "outputs": [
        {
          "output_type": "execute_result",
          "data": {
            "text/plain": [
              "(2.049193338482967, 1.2745966692414834)"
            ]
          },
          "metadata": {},
          "execution_count": 4
        }
      ]
    },
    {
      "cell_type": "markdown",
      "source": [
        "**Задача 3.** Непрерывная случайная величина X распределена нормально и задана плотностью распределения f(x) = (1 / (4 * sqrt(2pi))) * exp((-(x+2)**2) / 32) \n",
        "\n",
        "Найдите: \n",
        "\n",
        "а) M(X) \n",
        "\n",
        "б) D(X) \n",
        "\n",
        "в)std(X) (среднее квадратичное отклонение)"
      ],
      "metadata": {
        "id": "GdDI2STdTTOa"
      }
    },
    {
      "cell_type": "markdown",
      "source": [
        "Ответ:\n",
        "\n",
        "Сигма = 4 \n",
        "\n",
        "M(X) = -2 (-(-2) = + 2)\n",
        "\n",
        "Дисперсия = сигма в квадрате = 16"
      ],
      "metadata": {
        "id": "t9ICPwkjUA6K"
      }
    },
    {
      "cell_type": "markdown",
      "source": [
        "**Задача 4.** Рост взрослого населения города X имеет нормальное распределение. Причем, средний рост равен 174 см, а среднее квадратичное отклонение равно 8 см. \n",
        "\n",
        "Какова вероятность того, что случайным образом выбранный взрослый человек имеет рост: \n",
        "\n",
        "1)больше 182 см \n",
        "\n",
        "2)больше 190 см \n",
        "\n",
        "3)от 166 см до 190 см \n",
        "\n",
        "4)от 166 см до 182 см \n",
        "\n",
        "5)от 158 см до 190 см \n",
        "\n",
        "6)не выше 150 см или не ниже 190 см \n",
        "\n",
        "7)не выше 150 см или не ниже 198 см \n",
        "\n",
        "8)ниже 166 см."
      ],
      "metadata": {
        "id": "bskRbq8sVynX"
      }
    },
    {
      "cell_type": "markdown",
      "source": [
        "mu = 174\n",
        "\n",
        "sigma = 8\n",
        "\n",
        "x - указываем значения\n",
        "\n",
        "Z = (x - mu) / sigma \n",
        "\n",
        "Используем таблицу нормального распределения (по умолчанию X <= x)\n",
        "\n",
        "Для \"больше\" смотрим обратную таблицу распределения."
      ],
      "metadata": {
        "id": "oGBXnWS4XnSi"
      }
    },
    {
      "cell_type": "code",
      "source": [
        "def Z(num, mu=174, sigma=8):\n",
        "    return (num - mu) / sigma\n",
        "\n",
        "\n",
        "p_1 = Z(182) # 0.1587 = 15.87%\n",
        "p_2 = Z(190) # 0.0228 = 2.28% \n",
        "p_3 = Z(190) - Z(166) # 0.9772 - 0.1587 = 0.8185 = 81.85%\n",
        "p_4 = Z(182) - Z(166) # 0.8413 - 0.1587 = 0.6826 = 68.26%\n",
        "p_5 = Z(190) - Z(158) # 0.9772 - 0.0228 = 0.9544 = 95.44%\n",
        "p_6 = Z(150) + Z(190) # 0.0013 + 0.0228 = 0.0241 = 2.41%\n",
        "p_7 = Z(150) + Z(198) # 0.0013 + 0.0013 = 0.0026 = 0.26%\n",
        "p_8 = Z(166) # 0.1587 = 15.87%\n"
      ],
      "metadata": {
        "id": "rg9vVxS-YHjH"
      },
      "execution_count": 7,
      "outputs": []
    },
    {
      "cell_type": "markdown",
      "source": [
        "**Задача 5**. На сколько сигм (средних квадратичных отклонений) отклоняется рост человека, равный 190 см, от математического ожидания роста в популяции, в которой M(X) = 178 см и D(X) = 25 кв.см?"
      ],
      "metadata": {
        "id": "1K-_iqwsZZvm"
      }
    },
    {
      "cell_type": "code",
      "source": [
        "(190 - 178) / sqrt(25)"
      ],
      "metadata": {
        "colab": {
          "base_uri": "https://localhost:8080/"
        },
        "id": "px8N2ETpZsgc",
        "outputId": "d39fed11-73f3-4838-9248-82c507e454a7"
      },
      "execution_count": 8,
      "outputs": [
        {
          "output_type": "execute_result",
          "data": {
            "text/plain": [
              "2.4"
            ]
          },
          "metadata": {},
          "execution_count": 8
        }
      ]
    }
  ]
}